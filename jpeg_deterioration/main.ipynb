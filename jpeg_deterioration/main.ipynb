{
 "cells": [
  {
   "cell_type": "markdown",
   "id": "8bbd4b00",
   "metadata": {},
   "source": [
    "When you save an array (an image) as a jpeg file, its content almost always gets changed (deteriorated).  Here is an example:"
   ]
  },
  {
   "cell_type": "code",
   "execution_count": 1,
   "id": "7d40c1f9",
   "metadata": {},
   "outputs": [
    {
     "name": "stdout",
     "output_type": "stream",
     "text": [
      "[[[143 224 156]\n",
      "  [165  11 206]\n",
      "  [  1 237 187]]\n",
      "\n",
      " [[117 235  40]\n",
      "  [ 10 231  26]\n",
      "  [  1 164 134]]\n",
      "\n",
      " [[250 138  42]\n",
      "  [ 74 189 110]\n",
      "  [ 93  44 240]]]\n",
      "----------------------\n",
      "[[[153 222 147]\n",
      "  [ 44 110  59]\n",
      "  [147 204 201]]\n",
      "\n",
      " [[128 186 132]\n",
      "  [114 162 134]\n",
      "  [104 130 154]]\n",
      "\n",
      " [[ 97 131 120]\n",
      "  [134 146 164]\n",
      "  [118  82 158]]]\n"
     ]
    }
   ],
   "source": [
    "import numpy as np\n",
    "import cv2\n",
    "img_orig = np.random.uniform(0,255,(100,100,3)).astype(np.uint8)\n",
    "cv2.imwrite('test.jpg', img_orig)\n",
    "img = cv2.imread('test.jpg')\n",
    "if not np.array_equal(img_orig, img):\n",
    "    print(img_orig[:3, :3])\n",
    "    print(\"----------------------\")\n",
    "    print(img[:3, :3])"
   ]
  },
  {
   "cell_type": "markdown",
   "id": "bf171329",
   "metadata": {},
   "source": [
    "On the other hand, png format does not change the content:"
   ]
  },
  {
   "cell_type": "code",
   "execution_count": 2,
   "id": "12469ebc",
   "metadata": {},
   "outputs": [],
   "source": [
    "import numpy as np\n",
    "import cv2\n",
    "img_orig = np.random.uniform(0,255,(100,100,3)).astype(np.uint8)\n",
    "cv2.imwrite('test.png', img_orig)\n",
    "img = cv2.imread('test.png')\n",
    "if not np.array_equal(img_orig, img):\n",
    "    print(img_orig[:3, :3])\n",
    "    print(\"----------------------\")\n",
    "    print(img[:3, :3])"
   ]
  },
  {
   "cell_type": "code",
   "execution_count": null,
   "id": "63485bb8",
   "metadata": {},
   "outputs": [],
   "source": []
  }
 ],
 "metadata": {
  "kernelspec": {
   "display_name": "Python 3 (ipykernel)",
   "language": "python",
   "name": "python3"
  },
  "language_info": {
   "codemirror_mode": {
    "name": "ipython",
    "version": 3
   },
   "file_extension": ".py",
   "mimetype": "text/x-python",
   "name": "python",
   "nbconvert_exporter": "python",
   "pygments_lexer": "ipython3",
   "version": "3.9.7"
  }
 },
 "nbformat": 4,
 "nbformat_minor": 5
}
