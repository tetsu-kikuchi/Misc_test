{
 "cells": [
  {
   "cell_type": "markdown",
   "id": "f3f9f156",
   "metadata": {},
   "source": [
    "Be in-place operations for mutable variables, when the variables are used as arguments of a function.  It will sometimes cause unexpected behavior both inside and outside of the function.  "
   ]
  },
  {
   "cell_type": "markdown",
   "id": "c7351aa0",
   "metadata": {},
   "source": [
    "Non in-place operations affect nothing outside a function.  It makes a copy of the original object: "
   ]
  },
  {
   "cell_type": "code",
   "execution_count": 9,
   "id": "fa359147",
   "metadata": {},
   "outputs": [
    {
     "name": "stdout",
     "output_type": "stream",
     "text": [
      "#1 2236985511056\n",
      "#1 2237009940080\n",
      "[0 1 2 3 4]\n"
     ]
    }
   ],
   "source": [
    "%reset -f\n",
    "import numpy as np\n",
    "def func(b):\n",
    "    print(\"#1\", id(b))\n",
    "    b = b + 1\n",
    "    print(\"#1\", id(b))\n",
    "\n",
    "a = np.arange(5)\n",
    "func(a)\n",
    "print(a)"
   ]
  },
  {
   "cell_type": "markdown",
   "id": "f5bffe43",
   "metadata": {},
   "source": [
    "However, in-place operations for mutable arguments change their contents:"
   ]
  },
  {
   "cell_type": "code",
   "execution_count": 2,
   "id": "fd80566c",
   "metadata": {},
   "outputs": [
    {
     "name": "stdout",
     "output_type": "stream",
     "text": [
      "[777 778 779 780 781]\n"
     ]
    }
   ],
   "source": [
    "%reset -f\n",
    "import numpy as np\n",
    "\n",
    "def func(b):\n",
    "    b += 777\n",
    "\n",
    "a = np.arange(5)\n",
    "func(a)\n",
    "print(a)"
   ]
  },
  {
   "cell_type": "markdown",
   "id": "78cc940b",
   "metadata": {},
   "source": [
    "Operations on an element of a mutable object is regarded as in-place:"
   ]
  },
  {
   "cell_type": "code",
   "execution_count": 3,
   "id": "24f78177",
   "metadata": {},
   "outputs": [
    {
     "name": "stdout",
     "output_type": "stream",
     "text": [
      "#1 2236988632432\n",
      "#2 2236988632432\n",
      "[  0 778   2   3   4]\n"
     ]
    }
   ],
   "source": [
    "%reset -f\n",
    "import numpy as np\n",
    "\n",
    "def func(b):\n",
    "    print(\"#1\", id(b[1]))\n",
    "    b[1] = b[1] + 777\n",
    "    print(\"#2\", id(b[1]))\n",
    "\n",
    "a = np.arange(5)\n",
    "func(a)\n",
    "print(a)"
   ]
  },
  {
   "cell_type": "markdown",
   "id": "7fe6fa0a",
   "metadata": {},
   "source": [
    "If you do not want to have any effects outside a function, a quick way is just to make a copy of the argument: "
   ]
  },
  {
   "cell_type": "code",
   "execution_count": 4,
   "id": "5565c7c9",
   "metadata": {},
   "outputs": [
    {
     "name": "stdout",
     "output_type": "stream",
     "text": [
      "[0 1 2 3 4]\n"
     ]
    }
   ],
   "source": [
    "%reset -f\n",
    "import numpy as np\n",
    "import copy\n",
    "\n",
    "def func(b):\n",
    "    b = copy.deepcopy(b)\n",
    "    b[1] = b[1] + 777\n",
    "\n",
    "a = np.arange(5)\n",
    "func(a)\n",
    "print(a)"
   ]
  },
  {
   "cell_type": "markdown",
   "id": "4a5956a3",
   "metadata": {},
   "source": [
    "If an argument is an immutable object, \"in-place\" operations have no effects outside of a function. (Double quotation on the word in-place, because it is actually not in-place)"
   ]
  },
  {
   "cell_type": "code",
   "execution_count": 5,
   "id": "2184b1b1",
   "metadata": {},
   "outputs": [
    {
     "name": "stdout",
     "output_type": "stream",
     "text": [
      "#1 2236911675824\n",
      "#2 2236911676048\n",
      "5\n"
     ]
    }
   ],
   "source": [
    "%reset -f\n",
    "\n",
    "def func(b):\n",
    "    print(\"#1\", id(b))\n",
    "    b += 7    # creates a new object \n",
    "    print(\"#2\", id(b))  \n",
    "\n",
    "a = 5\n",
    "func(a)\n",
    "print(a)"
   ]
  },
  {
   "cell_type": "code",
   "execution_count": null,
   "id": "aa170f1e",
   "metadata": {},
   "outputs": [],
   "source": []
  },
  {
   "cell_type": "markdown",
   "id": "41e485fe",
   "metadata": {},
   "source": [
    "Now, let us change the subject a little bit, and consider the effects of in-place operations on default arguments.  Note that default arguments are made when the function is defined, not when it is run. If you perform in-place operations on default mutable objects, the effects of the operations are stored in the function.  Look at the example:"
   ]
  },
  {
   "cell_type": "code",
   "execution_count": 6,
   "id": "dfaa4c36",
   "metadata": {},
   "outputs": [
    {
     "name": "stdout",
     "output_type": "stream",
     "text": [
      "#1 [0 1 2 3 4]\n",
      "#2 [ 7  8  9 10 11]\n",
      "#3 [24 25 26 27 28]\n",
      "#4 [51 52 53 54 55]\n"
     ]
    }
   ],
   "source": [
    "%reset -f\n",
    "import numpy as np\n",
    "\n",
    "def func(a, b=np.array([7])):\n",
    "    a = a + b\n",
    "    b += 10\n",
    "    return a\n",
    "    \n",
    "a = np.arange(5)\n",
    "print(\"#1\",a)\n",
    "a = func(a)\n",
    "print(\"#2\",a)  # increased by 7\n",
    "a = func(a)\n",
    "print(\"#3\",a)  # increased by 17\n",
    "a = func(a)\n",
    "print(\"#4\",a)  # increased by 27"
   ]
  },
  {
   "cell_type": "markdown",
   "id": "95fcd003",
   "metadata": {},
   "source": [
    "A quick way to avoid this problem is, again, to make a copy: "
   ]
  },
  {
   "cell_type": "code",
   "execution_count": 7,
   "id": "bfa3d784",
   "metadata": {},
   "outputs": [
    {
     "name": "stdout",
     "output_type": "stream",
     "text": [
      "#1 [0 1 2 3 4]\n",
      "#2 [ 7  8  9 10 11]\n",
      "#3 [14 15 16 17 18]\n",
      "#4 [21 22 23 24 25]\n"
     ]
    }
   ],
   "source": [
    "%reset -f\n",
    "import numpy as np\n",
    "import copy\n",
    "\n",
    "def func(a, b=np.array([7])):\n",
    "    b = copy.deepcopy(b)\n",
    "    a = a + b\n",
    "    b += 10\n",
    "    return a\n",
    "    \n",
    "a = np.arange(5)\n",
    "print(\"#1\",a)\n",
    "a = func(a)\n",
    "print(\"#2\",a)  \n",
    "a = func(a)\n",
    "print(\"#3\",a) \n",
    "a = func(a)\n",
    "print(\"#4\",a)  "
   ]
  },
  {
   "cell_type": "markdown",
   "id": "130601bc",
   "metadata": {},
   "source": [
    "Just to be sure, operations on immutable objects have no effects outside of the function: "
   ]
  },
  {
   "cell_type": "code",
   "execution_count": 8,
   "id": "5cbcace1",
   "metadata": {},
   "outputs": [
    {
     "name": "stdout",
     "output_type": "stream",
     "text": [
      "#1 [0 1 2 3 4]\n",
      "#2 [ 7  8  9 10 11]\n",
      "#3 [14 15 16 17 18]\n",
      "#4 [21 22 23 24 25]\n"
     ]
    }
   ],
   "source": [
    "%reset -f\n",
    "import numpy as np\n",
    "\n",
    "def func(a, b=7):\n",
    "    a = a + b\n",
    "    b += 10\n",
    "    return a\n",
    "    \n",
    "a = np.arange(5)\n",
    "print(\"#1\",a)\n",
    "a = func(a)\n",
    "print(\"#2\",a)\n",
    "a = func(a)\n",
    "print(\"#3\",a)\n",
    "a = func(a)\n",
    "print(\"#4\",a)"
   ]
  },
  {
   "cell_type": "code",
   "execution_count": null,
   "id": "60f68bec",
   "metadata": {},
   "outputs": [],
   "source": []
  }
 ],
 "metadata": {
  "kernelspec": {
   "display_name": "Python 3 (ipykernel)",
   "language": "python",
   "name": "python3"
  },
  "language_info": {
   "codemirror_mode": {
    "name": "ipython",
    "version": 3
   },
   "file_extension": ".py",
   "mimetype": "text/x-python",
   "name": "python",
   "nbconvert_exporter": "python",
   "pygments_lexer": "ipython3",
   "version": "3.9.7"
  }
 },
 "nbformat": 4,
 "nbformat_minor": 5
}
