{
 "cells": [
  {
   "cell_type": "markdown",
   "id": "1c47011f",
   "metadata": {},
   "source": [
    "The topic here is the effects of in-place operations for mutable variables, when the variables are used as arguments of a function.  It will sometimes cause unexpected behavior both inside and outside of the function.  "
   ]
  },
  {
   "cell_type": "markdown",
   "id": "5b571356",
   "metadata": {},
   "source": [
    "Non in-place operations affect nothing outside a function.  It makes a copy of the original object: "
   ]
  },
  {
   "cell_type": "code",
   "execution_count": 1,
   "id": "490e2231",
   "metadata": {},
   "outputs": [
    {
     "name": "stdout",
     "output_type": "stream",
     "text": [
      "#1 2875082513168\n",
      "#2 2875112422544\n",
      "[0 1 2 3 4]\n"
     ]
    }
   ],
   "source": [
    "%reset -f\n",
    "import numpy as np\n",
    "def func(b):\n",
    "    print(\"#1\", id(b))\n",
    "    b = b + 1\n",
    "    print(\"#2\", id(b))\n",
    "\n",
    "a = np.arange(5)\n",
    "func(a)\n",
    "print(a)"
   ]
  },
  {
   "cell_type": "markdown",
   "id": "7b896bfc",
   "metadata": {},
   "source": [
    "However, in-place operations for mutable arguments change their contents:"
   ]
  },
  {
   "cell_type": "code",
   "execution_count": 2,
   "id": "914981dc",
   "metadata": {},
   "outputs": [
    {
     "name": "stdout",
     "output_type": "stream",
     "text": [
      "#1 2875082513168\n",
      "#2 2875082513168\n",
      "[777 778 779 780 781]\n"
     ]
    }
   ],
   "source": [
    "%reset -f\n",
    "import numpy as np\n",
    "\n",
    "def func(b):\n",
    "    print(\"#1\", id(b))\n",
    "    b += 777\n",
    "    print(\"#2\", id(b))\n",
    "\n",
    "a = np.arange(5)\n",
    "func(a)\n",
    "print(a)"
   ]
  },
  {
   "cell_type": "markdown",
   "id": "8098a884",
   "metadata": {},
   "source": [
    "Operations on an element of a mutable object is regarded as in-place:"
   ]
  },
  {
   "cell_type": "code",
   "execution_count": 3,
   "id": "58cc384e",
   "metadata": {},
   "outputs": [
    {
     "name": "stdout",
     "output_type": "stream",
     "text": [
      "#1 2875091233744\n",
      "#2 2875091233744\n",
      "[  0 778   2   3   4]\n"
     ]
    }
   ],
   "source": [
    "%reset -f\n",
    "import numpy as np\n",
    "\n",
    "def func(b):\n",
    "    print(\"#1\", id(b[1]))\n",
    "    b[1] = b[1] + 777\n",
    "    print(\"#2\", id(b[1]))\n",
    "\n",
    "a = np.arange(5)\n",
    "func(a)\n",
    "print(a)"
   ]
  },
  {
   "cell_type": "markdown",
   "id": "589dd344",
   "metadata": {},
   "source": [
    "If you do not want to have any effects outside a function, a quick way is just to make a copy of the argument: "
   ]
  },
  {
   "cell_type": "code",
   "execution_count": 4,
   "id": "c0c40a5c",
   "metadata": {},
   "outputs": [
    {
     "name": "stdout",
     "output_type": "stream",
     "text": [
      "[0 1 2 3 4]\n"
     ]
    }
   ],
   "source": [
    "%reset -f\n",
    "import numpy as np\n",
    "import copy\n",
    "\n",
    "def func(b):\n",
    "    b = copy.deepcopy(b)\n",
    "    b[1] = b[1] + 777\n",
    "\n",
    "a = np.arange(5)\n",
    "func(a)\n",
    "print(a)"
   ]
  },
  {
   "cell_type": "markdown",
   "id": "b5c205aa",
   "metadata": {},
   "source": [
    "If an argument is an immutable object, \"in-place\" operations have no effects outside of a function. (Double quotation on the word in-place, because it is actually not in-place)"
   ]
  },
  {
   "cell_type": "code",
   "execution_count": 5,
   "id": "6441e883",
   "metadata": {},
   "outputs": [
    {
     "name": "stdout",
     "output_type": "stream",
     "text": [
      "#1 2875014212016\n",
      "#2 2875014212240\n",
      "5\n"
     ]
    }
   ],
   "source": [
    "%reset -f\n",
    "\n",
    "def func(b):\n",
    "    print(\"#1\", id(b))\n",
    "    b += 7    # creates a new object \n",
    "    print(\"#2\", id(b))  \n",
    "\n",
    "a = 5\n",
    "func(a)\n",
    "print(a)"
   ]
  },
  {
   "cell_type": "code",
   "execution_count": null,
   "id": "b141ee93",
   "metadata": {},
   "outputs": [],
   "source": []
  },
  {
   "cell_type": "markdown",
   "id": "7c882f99",
   "metadata": {},
   "source": [
    "Now, let us change the subject a little bit, and consider the effects of in-place operations on default arguments.  Note that default arguments are made when the function is defined, not when it is run. If you perform in-place operations on default mutable objects, the effects of the operations are stored in the function.  Look at the example:"
   ]
  },
  {
   "cell_type": "code",
   "execution_count": 6,
   "id": "2effdf3f",
   "metadata": {},
   "outputs": [
    {
     "name": "stdout",
     "output_type": "stream",
     "text": [
      "#1 [0 1 2 3 4]\n",
      "#2 [ 7  8  9 10 11]\n",
      "#3 [24 25 26 27 28]\n",
      "#4 [51 52 53 54 55]\n"
     ]
    }
   ],
   "source": [
    "%reset -f\n",
    "import numpy as np\n",
    "\n",
    "def func(a, b=np.array([7])):\n",
    "    a = a + b\n",
    "    b += 10\n",
    "    return a\n",
    "    \n",
    "a = np.arange(5)\n",
    "print(\"#1\",a)\n",
    "a = func(a)\n",
    "print(\"#2\",a)  # increased by 7\n",
    "a = func(a)\n",
    "print(\"#3\",a)  # increased by 17\n",
    "a = func(a)\n",
    "print(\"#4\",a)  # increased by 27"
   ]
  },
  {
   "cell_type": "markdown",
   "id": "5e8b5a20",
   "metadata": {},
   "source": [
    "A quick way to avoid this problem is, again, to make a copy: "
   ]
  },
  {
   "cell_type": "code",
   "execution_count": 7,
   "id": "14837d2b",
   "metadata": {},
   "outputs": [
    {
     "name": "stdout",
     "output_type": "stream",
     "text": [
      "#1 [0 1 2 3 4]\n",
      "#2 [ 7  8  9 10 11]\n",
      "#3 [14 15 16 17 18]\n",
      "#4 [21 22 23 24 25]\n"
     ]
    }
   ],
   "source": [
    "%reset -f\n",
    "import numpy as np\n",
    "import copy\n",
    "\n",
    "def func(a, b=np.array([7])):\n",
    "    b = copy.deepcopy(b)\n",
    "    a = a + b\n",
    "    b += 10\n",
    "    return a\n",
    "    \n",
    "a = np.arange(5)\n",
    "print(\"#1\",a)\n",
    "a = func(a)\n",
    "print(\"#2\",a)  \n",
    "a = func(a)\n",
    "print(\"#3\",a) \n",
    "a = func(a)\n",
    "print(\"#4\",a)  "
   ]
  },
  {
   "cell_type": "markdown",
   "id": "d4b758db",
   "metadata": {},
   "source": [
    "Just to be sure, operations on immutable objects have no effects outside of the function: "
   ]
  },
  {
   "cell_type": "code",
   "execution_count": 8,
   "id": "d0486427",
   "metadata": {},
   "outputs": [
    {
     "name": "stdout",
     "output_type": "stream",
     "text": [
      "#1 [0 1 2 3 4]\n",
      "#2 [ 7  8  9 10 11]\n",
      "#3 [14 15 16 17 18]\n",
      "#4 [21 22 23 24 25]\n"
     ]
    }
   ],
   "source": [
    "%reset -f\n",
    "import numpy as np\n",
    "\n",
    "def func(a, b=7):\n",
    "    a = a + b\n",
    "    b += 10\n",
    "    return a\n",
    "    \n",
    "a = np.arange(5)\n",
    "print(\"#1\",a)\n",
    "a = func(a)\n",
    "print(\"#2\",a)\n",
    "a = func(a)\n",
    "print(\"#3\",a)\n",
    "a = func(a)\n",
    "print(\"#4\",a)"
   ]
  },
  {
   "cell_type": "code",
   "execution_count": null,
   "id": "62b89fb4",
   "metadata": {},
   "outputs": [],
   "source": []
  }
 ],
 "metadata": {
  "kernelspec": {
   "display_name": "Python 3 (ipykernel)",
   "language": "python",
   "name": "python3"
  },
  "language_info": {
   "codemirror_mode": {
    "name": "ipython",
    "version": 3
   },
   "file_extension": ".py",
   "mimetype": "text/x-python",
   "name": "python",
   "nbconvert_exporter": "python",
   "pygments_lexer": "ipython3",
   "version": "3.9.7"
  }
 },
 "nbformat": 4,
 "nbformat_minor": 5
}
