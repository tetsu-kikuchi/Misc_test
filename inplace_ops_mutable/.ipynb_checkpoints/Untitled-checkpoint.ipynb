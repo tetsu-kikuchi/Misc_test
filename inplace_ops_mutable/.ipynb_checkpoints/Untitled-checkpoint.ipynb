{
 "cells": [
  {
   "cell_type": "markdown",
   "id": "5758775a",
   "metadata": {},
   "source": [
    "Be careful with in-place operations for mutable variables, when the variables are used as arguments of a function.  It will sometimes cause unexpected behavior both inside and outside of the function.  "
   ]
  },
  {
   "cell_type": "markdown",
   "id": "28bde0c7",
   "metadata": {},
   "source": [
    "Non in-place operations affect nothing outside a function:"
   ]
  },
  {
   "cell_type": "code",
   "execution_count": 11,
   "id": "775cb62a",
   "metadata": {},
   "outputs": [
    {
     "name": "stdout",
     "output_type": "stream",
     "text": [
      "[0 1 2 3 4]\n"
     ]
    }
   ],
   "source": [
    "%reset -f\n",
    "import numpy as np\n",
    "def func(b):\n",
    "    b = b + 1\n",
    "\n",
    "a = np.arange(5)\n",
    "func(a)\n",
    "print(a)"
   ]
  },
  {
   "cell_type": "markdown",
   "id": "094a23f6",
   "metadata": {},
   "source": [
    "However, in-place operations for mutable arguments change their contents:"
   ]
  },
  {
   "cell_type": "code",
   "execution_count": 12,
   "id": "56cc56ca",
   "metadata": {},
   "outputs": [
    {
     "name": "stdout",
     "output_type": "stream",
     "text": [
      "[777 778 779 780 781]\n"
     ]
    }
   ],
   "source": [
    "%reset -f\n",
    "import numpy as np\n",
    "\n",
    "def func(b):\n",
    "    b += 777\n",
    "\n",
    "a = np.arange(5)\n",
    "func(a)\n",
    "print(a)"
   ]
  },
  {
   "cell_type": "markdown",
   "id": "e18cbdbb",
   "metadata": {},
   "source": [
    "Operations on an element of a mutable object is regarded as in-place:"
   ]
  },
  {
   "cell_type": "code",
   "execution_count": 25,
   "id": "5044b00a",
   "metadata": {},
   "outputs": [
    {
     "name": "stdout",
     "output_type": "stream",
     "text": [
      "#1 2713951186288\n",
      "#2 2713951186672\n",
      "[  0 778   2   3   4]\n"
     ]
    }
   ],
   "source": [
    "%reset -f\n",
    "import numpy as np\n",
    "\n",
    "def func(b):\n",
    "    print(\"#1\", id(b[1]))\n",
    "    b[1] = b[1] + 777\n",
    "    print(\"#2\", id(b[1]))\n",
    "\n",
    "a = np.arange(5)\n",
    "func(a)\n",
    "print(a)"
   ]
  },
  {
   "cell_type": "markdown",
   "id": "de5d7469",
   "metadata": {},
   "source": [
    "If you do not want to have any effects outside a function, a quick way is just to make a copy of an argument: "
   ]
  },
  {
   "cell_type": "code",
   "execution_count": 15,
   "id": "ae5556d7",
   "metadata": {},
   "outputs": [
    {
     "name": "stdout",
     "output_type": "stream",
     "text": [
      "[0 1 2 3 4]\n"
     ]
    }
   ],
   "source": [
    "%reset -f\n",
    "import numpy as np\n",
    "import copy\n",
    "\n",
    "def func(b):\n",
    "    b = copy.deepcopy(b)\n",
    "    b[1] = b[1] + 777\n",
    "\n",
    "a = np.arange(5)\n",
    "func(a)\n",
    "print(a)"
   ]
  },
  {
   "cell_type": "markdown",
   "id": "f8b3e5ea",
   "metadata": {},
   "source": [
    "If an argument is an immutable object, \"in-place\" operations have no effects outside of a function. (Double quotation on the word in-place, because it is actually not in-place)"
   ]
  },
  {
   "cell_type": "code",
   "execution_count": 27,
   "id": "5e1429b4",
   "metadata": {},
   "outputs": [
    {
     "name": "stdout",
     "output_type": "stream",
     "text": [
      "#1 2713863219632\n",
      "#2 2713863219856\n",
      "5\n"
     ]
    }
   ],
   "source": [
    "%reset -f\n",
    "\n",
    "def func(b):\n",
    "    print(\"#1\", id(b))\n",
    "    b += 7    # creates a new object \n",
    "    print(\"#2\", id(b))  \n",
    "\n",
    "a = 5\n",
    "func(a)\n",
    "print(a)"
   ]
  },
  {
   "cell_type": "code",
   "execution_count": null,
   "id": "73c19fac",
   "metadata": {},
   "outputs": [],
   "source": []
  },
  {
   "cell_type": "markdown",
   "id": "cae349d7",
   "metadata": {},
   "source": [
    "Now, let us change the subject a little bit, and consider the effects of in-place operations on default arguments.  Note that default arguments are made when the function is defined, not when it is run. If you perform in-place operations on default mutable objects, the effects of the operations are stored in the function.  Look at the example:"
   ]
  },
  {
   "cell_type": "code",
   "execution_count": 28,
   "id": "b0c0e04f",
   "metadata": {},
   "outputs": [
    {
     "name": "stdout",
     "output_type": "stream",
     "text": [
      "#1 [0 1 2 3 4]\n",
      "#2 [ 7  8  9 10 11]\n",
      "#3 [24 25 26 27 28]\n",
      "#4 [51 52 53 54 55]\n"
     ]
    }
   ],
   "source": [
    "%reset -f\n",
    "import numpy as np\n",
    "import copy\n",
    "\n",
    "def func(a, b=np.array([7])):\n",
    "    a = a + b\n",
    "    b += 10\n",
    "    return a\n",
    "    \n",
    "a = np.arange(5)\n",
    "print(\"#1\",a)\n",
    "a = func(a)\n",
    "print(\"#2\",a)  # increased by 7\n",
    "a = func(a)\n",
    "print(\"#3\",a)  # increased by 17\n",
    "a = func(a)\n",
    "print(\"#4\",a)  # increased by 27"
   ]
  },
  {
   "cell_type": "markdown",
   "id": "2a7e0648",
   "metadata": {},
   "source": [
    "A quick way to avoid this problem is, again, to make a copy: "
   ]
  },
  {
   "cell_type": "code",
   "execution_count": null,
   "id": "48a0f00e",
   "metadata": {},
   "outputs": [],
   "source": []
  },
  {
   "cell_type": "code",
   "execution_count": null,
   "id": "90337483",
   "metadata": {},
   "outputs": [],
   "source": [
    "%reset -f\n",
    "import numpy as np\n",
    "\n",
    "def func(a, b=7):\n",
    "    a = a + b\n",
    "    print(\"111 id of b:\", id(b))\n",
    "    b += 10\n",
    "    print(\"222 id of b:\", id(b))\n",
    "    return a\n",
    "    \n",
    "a = np.arange(5)\n",
    "print(\"#1\",a)\n",
    "a = func(a)\n",
    "print(\"#2\",a)\n",
    "a = func(a)\n",
    "print(\"#3\",a)\n",
    "a = func(a)\n",
    "print(\"#4\",a)"
   ]
  }
 ],
 "metadata": {
  "kernelspec": {
   "display_name": "Python 3 (ipykernel)",
   "language": "python",
   "name": "python3"
  },
  "language_info": {
   "codemirror_mode": {
    "name": "ipython",
    "version": 3
   },
   "file_extension": ".py",
   "mimetype": "text/x-python",
   "name": "python",
   "nbconvert_exporter": "python",
   "pygments_lexer": "ipython3",
   "version": "3.9.7"
  }
 },
 "nbformat": 4,
 "nbformat_minor": 5
}
